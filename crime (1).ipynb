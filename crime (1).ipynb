{
 "cells": [
  {
   "cell_type": "code",
   "execution_count": 1,
   "id": "46eae5ef-95ee-4102-ae3d-e999b070de1e",
   "metadata": {},
   "outputs": [],
   "source": [
    "\n",
    "import pandas as pd\n",
    "import numpy as np\n",
    "import matplotlib.pyplot as plt\n",
    "import seaborn as sns\n",
    "from sklearn.preprocessing import LabelEncoder, StandardScaler\n",
    "from sklearn.model_selection import train_test_split, GridSearchCV\n",
    "from sklearn.neighbors import KNeighborsClassifier\n",
    "from sklearn.metrics import classification_report, confusion_matrix, accuracy_score\n"
   ]
  },
  {
   "cell_type": "code",
   "execution_count": null,
   "id": "23e40335-7cfa-4b91-86bc-e0217089f1e4",
   "metadata": {},
   "outputs": [],
   "source": [
    "df"
   ]
  },
  {
   "cell_type": "code",
   "execution_count": null,
   "id": "a90cdc90-8bf2-4dd3-a946-93b30bb7808d",
   "metadata": {},
   "outputs": [],
   "source": [
    "df.head"
   ]
  },
  {
   "cell_type": "code",
   "execution_count": 2,
   "id": "07357a6b-7fb8-427c-a20f-9032e77ad86e",
   "metadata": {},
   "outputs": [
    {
     "name": "stdout",
     "output_type": "stream",
     "text": [
      "Initial Shape: (2477216, 29)\n"
     ]
    }
   ],
   "source": [
    "df = pd.read_csv(\"la_crime_2010_to_2023.csv\")\n",
    "print(\"Initial Shape:\", df.shape)"
   ]
  },
  {
   "cell_type": "code",
   "execution_count": 3,
   "id": "988ee990-972c-4275-b168-d083af31d90f",
   "metadata": {},
   "outputs": [
    {
     "name": "stderr",
     "output_type": "stream",
     "text": [
      "C:\\Users\\hp-d\\AppData\\Local\\Temp\\ipykernel_13772\\397506715.py:12: UserWarning: Could not infer format, so each element will be parsed individually, falling back to `dateutil`. To ensure parsing is consistent and as-expected, please specify a format.\n",
      "  df['DATE OCC'] = pd.to_datetime(df['DATE OCC'], errors='coerce')\n"
     ]
    }
   ],
   "source": [
    "\n",
    "df = df.drop(columns=[\n",
    "    'DR_NO', 'Date Rptd', 'TIME OCC', 'Rpt Dist No', 'Part 1-2',\n",
    "    'Crm Cd Desc', 'Status', 'Status Desc', 'LOCATION',\n",
    "    'Cross Street', 'LAT', 'LON'\n",
    "], errors='ignore')\n",
    "\n",
    "df = df.dropna(subset=['DATE OCC', 'AREA NAME', 'Crm Cd'])\n",
    "\n",
    "df['DATE OCC'] = pd.to_datetime(df['DATE OCC'], errors='coerce')\n",
    "\n",
    "df = df.dropna(subset=['DATE OCC'])\n",
    "\n",
    "df['Year'] = df['DATE OCC'].dt.year.astype('Int64')"
   ]
  },
  {
   "cell_type": "code",
   "execution_count": 4,
   "id": "99f356de-63c0-481e-8fb4-baa61a3e0f57",
   "metadata": {},
   "outputs": [],
   "source": [
    "\n",
    "le = LabelEncoder()\n",
    "df['Area Name Encoded'] = le.fit_transform(df['AREA NAME'])\n",
    "\n",
    "X = df[['Area Name Encoded', 'Year']]\n",
    "y = df['Crm Cd']\n",
    "\n",
    "scaler = StandardScaler()\n",
    "X_scaled = scaler.fit_transform(X)\n"
   ]
  },
  {
   "cell_type": "code",
   "execution_count": 5,
   "id": "e93b80a8-31a2-46ec-b35e-cd01d6aa5950",
   "metadata": {},
   "outputs": [],
   "source": [
    "\n",
    "X_train, X_test, y_train, y_test = train_test_split(X_scaled, y, test_size=0.2, random_state=42)\n"
   ]
  },
  {
   "cell_type": "code",
   "execution_count": null,
   "id": "dcc5bbd8-bee1-4a06-bbb5-8eab53de23cd",
   "metadata": {},
   "outputs": [
    {
     "name": "stderr",
     "output_type": "stream",
     "text": [
      "C:\\Users\\hp-d\\AppData\\Local\\Programs\\Python\\Python313\\Lib\\site-packages\\sklearn\\model_selection\\_split.py:805: UserWarning: The least populated class in y has only 1 members, which is less than n_splits=5.\n",
      "  warnings.warn(\n"
     ]
    }
   ],
   "source": [
    "\n",
    "\n",
    "param_grid = {'n_neighbors': np.arange(3, 21)}\n",
    "grid = GridSearchCV(KNeighborsClassifier(), param_grid, cv=5)\n",
    "grid.fit(X_train, y_train)\n",
    "print(\"Best Parameters:\", grid.best_params_)\n"
   ]
  },
  {
   "cell_type": "code",
   "execution_count": null,
   "id": "42c6909d-016a-4d17-89ac-ed639435a81a",
   "metadata": {},
   "outputs": [],
   "source": [
    "best_k = grid.best_params_['n_neighbors']\n",
    "knn = KNeighborsClassifier(n_neighbors=best_k)\n",
    "knn.fit(X_train, y_train)"
   ]
  },
  {
   "cell_type": "code",
   "execution_count": null,
   "id": "7fc0a697-1691-4635-a35f-272e16df04b6",
   "metadata": {},
   "outputs": [],
   "source": [
    "\n",
    "y_pred = knn.predict(X_test)\n",
    "\n",
    "print(\"Accuracy Score:\", accuracy_score(y_test, y_pred))\n",
    "print(\"\\nClassification Report:\\n\", classification_report(y_test, y_pred))\n"
   ]
  },
  {
   "cell_type": "code",
   "execution_count": null,
   "id": "38d5b0dc-dfcb-48f5-8370-9387b0a2772e",
   "metadata": {},
   "outputs": [],
   "source": [
    "plt.figure(figsize=(10, 6))\n",
    "sns.heatmap(confusion_matrix(y_test, y_pred), cmap='coolwarm', xticklabels=False, yticklabels=False)\n",
    "plt.title(\"Confusion Matrix\")\n",
    "plt.xlabel(\"Predicted\")\n",
    "plt.ylabel(\"Actual\")\n",
    "plt.show()"
   ]
  },
  {
   "cell_type": "code",
   "execution_count": 18,
   "id": "992abd8c-52cc-451f-ac25-7870631e1912",
   "metadata": {},
   "outputs": [
    {
     "data": {
      "image/png": "[encoded data removed]",
      "text/plain": [
       "<Figure size 1200x600 with 1 Axes>"
      ]
     },
     "metadata": {},
     "output_type": "display_data"
    }
   ],
   "source": [
    "plt.figure(figsize=(12, 6))\n",
    "sns.countplot(x='Year', data=df, order=sorted(df['Year'].dropna().unique()))\n",
    "plt.title(\"Crime Count by Year (2010 - 2023)\", fontsize=16)\n",
    "plt.xlabel(\"Year\")\n",
    "plt.ylabel(\"Number of Crimes\")\n",
    "plt.xticks(rotation=45)\n",
    "plt.grid(axis='y')\n",
    "plt.tight_layout()\n",
    "plt.show()"
   ]
  }
 ],
 "metadata": {
  "kernelspec": {
   "display_name": "Python 3 (ipykernel)",
   "language": "python",
   "name": "python3"
  },
  "language_info": {
   "codemirror_mode": {
    "name": "ipython",
    "version": 3
   },
   "file_extension": ".py",
   "mimetype": "text/x-python",
   "name": "python",
   "nbconvert_exporter": "python",
   "pygments_lexer": "ipython3",
   "version": "3.13.3"
  }
 },
 "nbformat": 4,
 "nbformat_minor": 5
}
